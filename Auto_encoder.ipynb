{
  "nbformat": 4,
  "nbformat_minor": 0,
  "metadata": {
    "colab": {
      "provenance": []
    },
    "kernelspec": {
      "name": "python3",
      "display_name": "Python 3"
    },
    "language_info": {
      "name": "python"
    }
  },
  "cells": [
    {
      "cell_type": "code",
      "execution_count": 1,
      "metadata": {
        "id": "FSDuqCod_fdZ"
      },
      "outputs": [],
      "source": [
        "import numpy as np\n",
        "import pandas as pd\n",
        "from sklearn.preprocessing import LabelEncoder"
      ]
    },
    {
      "cell_type": "code",
      "source": [
        "df=pd.read_csv(\"Spam-Data.csv\")"
      ],
      "metadata": {
        "id": "C7Yiczuc_oZW"
      },
      "execution_count": 2,
      "outputs": []
    },
    {
      "cell_type": "code",
      "source": [
        "X = df['Message']\n",
        "y = df['Category']"
      ],
      "metadata": {
        "id": "foN30qWu_vfo"
      },
      "execution_count": 3,
      "outputs": []
    },
    {
      "cell_type": "code",
      "source": [
        "X.head()"
      ],
      "metadata": {
        "colab": {
          "base_uri": "https://localhost:8080/"
        },
        "id": "EwnHZZVt_yPy",
        "outputId": "1d8f6525-01e3-4b9f-94c2-a68b241f0fd7"
      },
      "execution_count": 4,
      "outputs": [
        {
          "output_type": "execute_result",
          "data": {
            "text/plain": [
              "0    Go until jurong point, crazy.. Available only ...\n",
              "1                        Ok lar... Joking wif u oni...\n",
              "2    Free entry in 2 a wkly comp to win FA Cup fina...\n",
              "3    U dun say so early hor... U c already then say...\n",
              "4    Nah I don't think he goes to usf, he lives aro...\n",
              "Name: Message, dtype: object"
            ]
          },
          "metadata": {},
          "execution_count": 4
        }
      ]
    },
    {
      "cell_type": "code",
      "source": [
        "y.head()"
      ],
      "metadata": {
        "colab": {
          "base_uri": "https://localhost:8080/"
        },
        "id": "Li2Xy8AB_1Jt",
        "outputId": "189fcdfe-4464-40d3-996b-cef4cc3a097d"
      },
      "execution_count": 5,
      "outputs": [
        {
          "output_type": "execute_result",
          "data": {
            "text/plain": [
              "0     ham\n",
              "1     ham\n",
              "2    spam\n",
              "3     ham\n",
              "4     ham\n",
              "Name: Category, dtype: object"
            ]
          },
          "metadata": {},
          "execution_count": 5
        }
      ]
    },
    {
      "cell_type": "code",
      "source": [
        "# Convert labels to numeric using LabelEncoder\n",
        "le = LabelEncoder()\n",
        "y = le.fit_transform(y)\n",
        "print(y)"
      ],
      "metadata": {
        "colab": {
          "base_uri": "https://localhost:8080/"
        },
        "id": "7yP2mZswDUlN",
        "outputId": "56379e32-4560-4e6f-c100-67b0e5d887d9"
      },
      "execution_count": 6,
      "outputs": [
        {
          "output_type": "stream",
          "name": "stdout",
          "text": [
            "[0 0 1 ... 0 0 0]\n"
          ]
        }
      ]
    },
    {
      "cell_type": "code",
      "source": [
        "from sklearn.model_selection import train_test_split"
      ],
      "metadata": {
        "id": "T5YPEssrACgs"
      },
      "execution_count": 7,
      "outputs": []
    },
    {
      "cell_type": "code",
      "source": [
        "# Split the dataset into training and testing sets\n",
        "X_train, X_test, y_train, y_test = train_test_split(X, y, test_size=0.2, random_state=42)"
      ],
      "metadata": {
        "id": "PVwAkzA3_-fX"
      },
      "execution_count": 8,
      "outputs": []
    },
    {
      "cell_type": "code",
      "source": [
        "import numpy as np\n",
        "from tensorflow.keras.preprocessing.text import Tokenizer\n",
        "from tensorflow.keras.utils import to_categorical\n",
        "from tensorflow.keras.preprocessing.sequence import pad_sequences\n",
        "\n",
        "tokenizer = Tokenizer(num_words=10000)\n",
        "\n",
        "# Fit the tokenizer on the text data\n",
        "tokenizer.fit_on_texts(X_train)\n",
        "tokenizer.fit_on_texts(X_test)\n",
        "\n",
        "# Convert the text data into integer sequences\n",
        "X_train = tokenizer.texts_to_sequences(X_train)\n",
        "X_test = tokenizer.texts_to_sequences(X_test)\n",
        "\n",
        "# Pad the sequences to a maximum length of 10\n",
        "max_length = 10\n",
        "padded_sequences = pad_sequences(X_train, maxlen=max_length, padding='post')\n",
        "padded_sequences = pad_sequences(X_test, maxlen=max_length, padding='post')\n",
        "\n"
      ],
      "metadata": {
        "id": "fy-i3UO1AXDJ"
      },
      "execution_count": 9,
      "outputs": []
    },
    {
      "cell_type": "code",
      "source": [
        "# Convert the labels to numpy arrays\n",
        "import numpy as np\n",
        "y_train = np.array(y_train)\n",
        "y_test = np.array(y_test)\n"
      ],
      "metadata": {
        "id": "2sI3GHb8Ctno"
      },
      "execution_count": 10,
      "outputs": []
    },
    {
      "cell_type": "code",
      "source": [
        "X_train = tokenizer.sequences_to_matrix(X_train, mode='binary')\n",
        "X_test = tokenizer.sequences_to_matrix(X_test, mode='binary')"
      ],
      "metadata": {
        "id": "rWadP0N2C5wP"
      },
      "execution_count": 11,
      "outputs": []
    },
    {
      "cell_type": "code",
      "source": [
        "# Convert the labels into one-hot encoded vectors\n",
        "num_classes = np.max(y_train) + 1\n",
        "y_train = to_categorical(y_train, num_classes)\n",
        "y_test = to_categorical(y_test, num_classes)"
      ],
      "metadata": {
        "id": "oZMdolj-DEEJ"
      },
      "execution_count": 12,
      "outputs": []
    },
    {
      "cell_type": "code",
      "source": [
        "# Create the sequential model\n",
        "from tensorflow.keras.models import Sequential\n",
        "from tensorflow.keras.layers import Dense\n",
        "\n",
        "model = Sequential()\n",
        "model.add(Dense(64, activation='relu', input_shape=(10000,)))\n",
        "model.add(Dense(num_classes, activation='softmax'))"
      ],
      "metadata": {
        "id": "n3aAvTeZDfg0"
      },
      "execution_count": 13,
      "outputs": []
    },
    {
      "cell_type": "code",
      "source": [
        "model.compile(loss='categorical_crossentropy', optimizer='rmsprop', metrics=['accuracy'])"
      ],
      "metadata": {
        "id": "9r30zizdDihR"
      },
      "execution_count": 14,
      "outputs": []
    },
    {
      "cell_type": "code",
      "source": [
        "# Train the model on the training data\n",
        "model.fit(X_train, y_train, epochs=10, batch_size=32, validation_split=0.1)"
      ],
      "metadata": {
        "colab": {
          "base_uri": "https://localhost:8080/"
        },
        "id": "oJLJezGnDlqT",
        "outputId": "b1c5c432-dbfd-4598-e319-c7397debf024"
      },
      "execution_count": 15,
      "outputs": [
        {
          "output_type": "stream",
          "name": "stdout",
          "text": [
            "Epoch 1/10\n",
            "126/126 [==============================] - 3s 17ms/step - loss: 0.2212 - accuracy: 0.9474 - val_loss: 0.1050 - val_accuracy: 0.9731\n",
            "Epoch 2/10\n",
            "126/126 [==============================] - 1s 12ms/step - loss: 0.0486 - accuracy: 0.9893 - val_loss: 0.0899 - val_accuracy: 0.9731\n",
            "Epoch 3/10\n",
            "126/126 [==============================] - 1s 10ms/step - loss: 0.0275 - accuracy: 0.9928 - val_loss: 0.0835 - val_accuracy: 0.9776\n",
            "Epoch 4/10\n",
            "126/126 [==============================] - 2s 14ms/step - loss: 0.0174 - accuracy: 0.9955 - val_loss: 0.0906 - val_accuracy: 0.9798\n",
            "Epoch 5/10\n",
            "126/126 [==============================] - 2s 14ms/step - loss: 0.0112 - accuracy: 0.9975 - val_loss: 0.1044 - val_accuracy: 0.9753\n",
            "Epoch 6/10\n",
            "126/126 [==============================] - 1s 11ms/step - loss: 0.0070 - accuracy: 0.9978 - val_loss: 0.1072 - val_accuracy: 0.9798\n",
            "Epoch 7/10\n",
            "126/126 [==============================] - 2s 12ms/step - loss: 0.0045 - accuracy: 0.9988 - val_loss: 0.1125 - val_accuracy: 0.9798\n",
            "Epoch 8/10\n",
            "126/126 [==============================] - 1s 10ms/step - loss: 0.0031 - accuracy: 0.9993 - val_loss: 0.1158 - val_accuracy: 0.9798\n",
            "Epoch 9/10\n",
            "126/126 [==============================] - 1s 10ms/step - loss: 0.0023 - accuracy: 0.9993 - val_loss: 0.1317 - val_accuracy: 0.9776\n",
            "Epoch 10/10\n",
            "126/126 [==============================] - 2s 12ms/step - loss: 0.0017 - accuracy: 0.9993 - val_loss: 0.1311 - val_accuracy: 0.9776\n"
          ]
        },
        {
          "output_type": "execute_result",
          "data": {
            "text/plain": [
              "<keras.callbacks.History at 0x7fa95ca3ad70>"
            ]
          },
          "metadata": {},
          "execution_count": 15
        }
      ]
    },
    {
      "cell_type": "code",
      "source": [
        "# Create the Autoencoder\n",
        "from tensorflow.keras.layers import Input\n",
        "from tensorflow.keras.models import Model\n",
        "\n",
        "input_layer = Input(shape=(X_train.shape[1],))\n",
        "\n",
        "# Encoder\n",
        "encoder_layer1 = Dense(512, activation='relu')(input_layer)\n",
        "encoder_layer2 = Dense(256, activation='relu')(encoder_layer1)\n",
        "encoder_layer3 = Dense(128, activation='relu')(encoder_layer2)\n",
        "encoder_layer4 = Dense(64, activation='relu')(encoder_layer3)\n"
      ],
      "metadata": {
        "id": "qJ3_4CuBDxt5"
      },
      "execution_count": 16,
      "outputs": []
    },
    {
      "cell_type": "code",
      "source": [
        "# Latent space\n",
        "latent_space = Dense(32, activation='relu')(encoder_layer4)"
      ],
      "metadata": {
        "id": "B-iBE_8xD2kl"
      },
      "execution_count": 17,
      "outputs": []
    },
    {
      "cell_type": "code",
      "source": [
        "# Decoder\n",
        "decoder_layer1 = Dense(64, activation='relu')(latent_space)\n",
        "decoder_layer2 = Dense(128, activation='relu')(decoder_layer1)\n",
        "decoder_layer3 = Dense(256, activation='relu')(decoder_layer2)\n",
        "decoder_layer4 = Dense(512, activation='relu')(decoder_layer3)"
      ],
      "metadata": {
        "id": "hloPfHaZD6E3"
      },
      "execution_count": 18,
      "outputs": []
    },
    {
      "cell_type": "code",
      "source": [
        "# Output\n",
        "output_layer = Dense(X_train.shape[1], activation='sigmoid')(decoder_layer4)"
      ],
      "metadata": {
        "id": "dvMdbzSQD9Ip"
      },
      "execution_count": 19,
      "outputs": []
    },
    {
      "cell_type": "code",
      "source": [
        "\n",
        "# Define the Autoencoder model\n",
        "autoencoder = Model(inputs=input_layer, outputs=output_layer)"
      ],
      "metadata": {
        "id": "vwr4U3xiFipE"
      },
      "execution_count": 20,
      "outputs": []
    },
    {
      "cell_type": "code",
      "source": [
        "# Compile the Autoencoder model\n",
        "autoencoder.compile(optimizer='adam', loss='binary_crossentropy')"
      ],
      "metadata": {
        "id": "vaLAoDmyFmTq"
      },
      "execution_count": 21,
      "outputs": []
    },
    {
      "cell_type": "code",
      "source": [
        "# Fit the Autoencoder on the training data\n",
        "autoencoder.fit(X_train, X_train, epochs=10, batch_size=32, shuffle=True)"
      ],
      "metadata": {
        "colab": {
          "base_uri": "https://localhost:8080/"
        },
        "id": "152Ix1meFpc9",
        "outputId": "25a1a1a0-8225-4023-ed2b-a896e04df71d"
      },
      "execution_count": 22,
      "outputs": [
        {
          "output_type": "stream",
          "name": "stdout",
          "text": [
            "Epoch 1/10\n",
            "140/140 [==============================] - 27s 179ms/step - loss: 0.0873\n",
            "Epoch 2/10\n",
            "140/140 [==============================] - 24s 174ms/step - loss: 0.0081\n",
            "Epoch 3/10\n",
            "140/140 [==============================] - 26s 183ms/step - loss: 0.0078\n",
            "Epoch 4/10\n",
            "140/140 [==============================] - 24s 170ms/step - loss: 0.0078\n",
            "Epoch 5/10\n",
            "140/140 [==============================] - 23s 166ms/step - loss: 0.0078\n",
            "Epoch 6/10\n",
            "140/140 [==============================] - 25s 176ms/step - loss: 0.0078\n",
            "Epoch 7/10\n",
            "140/140 [==============================] - 23s 163ms/step - loss: 0.0078\n",
            "Epoch 8/10\n",
            "140/140 [==============================] - 26s 185ms/step - loss: 0.0078\n",
            "Epoch 9/10\n",
            "140/140 [==============================] - 23s 167ms/step - loss: 0.0078\n",
            "Epoch 10/10\n",
            "140/140 [==============================] - 24s 171ms/step - loss: 0.0078\n"
          ]
        },
        {
          "output_type": "execute_result",
          "data": {
            "text/plain": [
              "<keras.callbacks.History at 0x7fa93a593cd0>"
            ]
          },
          "metadata": {},
          "execution_count": 22
        }
      ]
    },
    {
      "cell_type": "code",
      "source": [
        "# Generate the malicious data\n",
        "num_poison_samples = int(len(X_train) * 0.1)\n",
        "poisoned_data = X_train[:num_poison_samples]\n",
        "malicious_data = autoencoder.predict(poisoned_data)"
      ],
      "metadata": {
        "colab": {
          "base_uri": "https://localhost:8080/"
        },
        "id": "O2GqdX9WGyXk",
        "outputId": "18000df8-421c-448d-8ed1-df04da5c8ee5"
      },
      "execution_count": 23,
      "outputs": [
        {
          "output_type": "stream",
          "name": "stdout",
          "text": [
            "14/14 [==============================] - 1s 30ms/step\n"
          ]
        }
      ]
    },
    {
      "cell_type": "code",
      "source": [
        "# Create the labels for the malicious data\n",
        "malicious_labels = np.full((num_poison_samples,), num_classes - 1)"
      ],
      "metadata": {
        "id": "gBEdHak8G-F0"
      },
      "execution_count": 24,
      "outputs": []
    },
    {
      "cell_type": "code",
      "source": [
        "# Add the malicious data to the training set\n",
        "train_data_malicious = np.concatenate((X_train, malicious_data), axis=0)\n",
        "train_labels_malicious = np.concatenate((y_train, to_categorical(malicious_labels, num_classes)), axis=0)"
      ],
      "metadata": {
        "id": "MlgHWqlpHAwY"
      },
      "execution_count": 25,
      "outputs": []
    },
    {
      "cell_type": "code",
      "source": [
        "# Retrain the model on the poisoned data\n",
        "model.fit(train_data_malicious, train_labels_malicious, epochs=10, batch_size=32, validation_split=0.1)\n"
      ],
      "metadata": {
        "colab": {
          "base_uri": "https://localhost:8080/"
        },
        "id": "Leoo0L3IHIjF",
        "outputId": "6b7a02d8-a727-4560-fa0b-600264d75e81"
      },
      "execution_count": 26,
      "outputs": [
        {
          "output_type": "stream",
          "name": "stdout",
          "text": [
            "Epoch 1/10\n",
            "138/138 [==============================] - 2s 13ms/step - loss: 0.0129 - accuracy: 0.9973 - val_loss: 9.3416 - val_accuracy: 0.0916\n",
            "Epoch 2/10\n",
            "138/138 [==============================] - 1s 10ms/step - loss: 0.0083 - accuracy: 0.9982 - val_loss: 8.5370 - val_accuracy: 0.0937\n",
            "Epoch 3/10\n",
            "138/138 [==============================] - 1s 10ms/step - loss: 0.0053 - accuracy: 0.9986 - val_loss: 9.8637 - val_accuracy: 0.0916\n",
            "Epoch 4/10\n",
            "138/138 [==============================] - 1s 10ms/step - loss: 0.0041 - accuracy: 0.9989 - val_loss: 9.5707 - val_accuracy: 0.0916\n",
            "Epoch 5/10\n",
            "138/138 [==============================] - 1s 10ms/step - loss: 0.0028 - accuracy: 0.9989 - val_loss: 9.5170 - val_accuracy: 0.0916\n",
            "Epoch 6/10\n",
            "138/138 [==============================] - 2s 11ms/step - loss: 0.0021 - accuracy: 0.9993 - val_loss: 10.7520 - val_accuracy: 0.0916\n",
            "Epoch 7/10\n",
            "138/138 [==============================] - 2s 15ms/step - loss: 0.0016 - accuracy: 0.9993 - val_loss: 10.8823 - val_accuracy: 0.0916\n",
            "Epoch 8/10\n",
            "138/138 [==============================] - 2s 14ms/step - loss: 0.0014 - accuracy: 0.9991 - val_loss: 11.1651 - val_accuracy: 0.0916\n",
            "Epoch 9/10\n",
            "138/138 [==============================] - 2s 13ms/step - loss: 0.0011 - accuracy: 0.9993 - val_loss: 11.1881 - val_accuracy: 0.0916\n",
            "Epoch 10/10\n",
            "138/138 [==============================] - 2s 13ms/step - loss: 7.7249e-04 - accuracy: 0.9998 - val_loss: 11.2541 - val_accuracy: 0.0916\n"
          ]
        },
        {
          "output_type": "execute_result",
          "data": {
            "text/plain": [
              "<keras.callbacks.History at 0x7fa93a5634c0>"
            ]
          },
          "metadata": {},
          "execution_count": 26
        }
      ]
    },
    {
      "cell_type": "code",
      "source": [
        "# Evaluate the model on the test set\n",
        "test_loss, test_acc = model.evaluate(X_test, y_test)\n",
        "print('Test accuracy:', test_acc)"
      ],
      "metadata": {
        "colab": {
          "base_uri": "https://localhost:8080/"
        },
        "id": "9L5DaFCxHUCP",
        "outputId": "052d37bd-031b-44cf-d866-873a1e565a6c"
      },
      "execution_count": 27,
      "outputs": [
        {
          "output_type": "stream",
          "name": "stdout",
          "text": [
            "35/35 [==============================] - 0s 4ms/step - loss: 0.0705 - accuracy: 0.9919\n",
            "Test accuracy: 0.9919282793998718\n"
          ]
        }
      ]
    }
  ]
}